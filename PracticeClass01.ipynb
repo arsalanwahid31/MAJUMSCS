{
  "nbformat": 4,
  "nbformat_minor": 0,
  "metadata": {
    "colab": {
      "name": "Copy of PracticeClass01.ipynb",
      "provenance": [],
      "collapsed_sections": []
    },
    "kernelspec": {
      "name": "python3",
      "display_name": "Python 3"
    }
  },
  "cells": [
    {
      "cell_type": "code",
      "metadata": {
        "colab": {
          "base_uri": "https://localhost:8080/"
        },
        "id": "IppNIzDBy32G",
        "outputId": "323df783-3d07-478c-ed1a-4caae8145ad3"
      },
      "source": [
        "print(\"Hello MAJU\")"
      ],
      "execution_count": null,
      "outputs": [
        {
          "output_type": "stream",
          "text": [
            "Hello MAJU\n"
          ],
          "name": "stdout"
        }
      ]
    },
    {
      "cell_type": "code",
      "metadata": {
        "id": "hUfX3sR-y7Lv"
      },
      "source": [
        "x = 2.123"
      ],
      "execution_count": null,
      "outputs": []
    },
    {
      "cell_type": "code",
      "metadata": {
        "id": "YZH7QG7LkeLp",
        "colab": {
          "base_uri": "https://localhost:8080/"
        },
        "outputId": "a926d3ed-694d-4e5c-bc79-0187b8aef023"
      },
      "source": [
        "print(x)"
      ],
      "execution_count": null,
      "outputs": [
        {
          "output_type": "stream",
          "text": [
            "2.123\n"
          ],
          "name": "stdout"
        }
      ]
    },
    {
      "cell_type": "code",
      "metadata": {
        "id": "04Uno2_SkeLs",
        "colab": {
          "base_uri": "https://localhost:8080/"
        },
        "outputId": "69383714-058d-44c7-dad8-a5a431c0ed16"
      },
      "source": [
        "print(\"Hello\", end=\".\")\n",
        "print(\"Maju\", end=\"@\")\n",
        "print(\"jinnah\",end=\".edu\")"
      ],
      "execution_count": null,
      "outputs": [
        {
          "output_type": "stream",
          "text": [
            "Hello.Maju@jinnah.edu"
          ],
          "name": "stdout"
        }
      ]
    },
    {
      "cell_type": "code",
      "metadata": {
        "id": "6lyHD48W4wIH"
      },
      "source": [
        "x = 34\r\n",
        "y = 7"
      ],
      "execution_count": null,
      "outputs": []
    },
    {
      "cell_type": "code",
      "metadata": {
        "colab": {
          "base_uri": "https://localhost:8080/"
        },
        "id": "E1mImLhx5Gse",
        "outputId": "40a44798-b622-4c6b-ada1-097bf7080364"
      },
      "source": [
        "print('x + y =',x+y)"
      ],
      "execution_count": null,
      "outputs": [
        {
          "output_type": "stream",
          "text": [
            "x + y = 41\n"
          ],
          "name": "stdout"
        }
      ]
    },
    {
      "cell_type": "code",
      "metadata": {
        "colab": {
          "base_uri": "https://localhost:8080/"
        },
        "id": "wjunKpkl5IHp",
        "outputId": "4805c503-3067-4628-c8c4-0aa8a1e516f7"
      },
      "source": [
        "print('x - y =',x-y)"
      ],
      "execution_count": null,
      "outputs": [
        {
          "output_type": "stream",
          "text": [
            "x - y = 27\n"
          ],
          "name": "stdout"
        }
      ]
    },
    {
      "cell_type": "code",
      "metadata": {
        "colab": {
          "base_uri": "https://localhost:8080/"
        },
        "id": "QsrnP4tH5MVm",
        "outputId": "3afd96a2-4813-40ac-ca61-56d3b8b84167"
      },
      "source": [
        "print('x * y =',x*y)"
      ],
      "execution_count": null,
      "outputs": [
        {
          "output_type": "stream",
          "text": [
            "x * y = 238\n"
          ],
          "name": "stdout"
        }
      ]
    },
    {
      "cell_type": "code",
      "metadata": {
        "colab": {
          "base_uri": "https://localhost:8080/"
        },
        "id": "ACIaSqeP5PDP",
        "outputId": "344018a3-5bd1-4549-efc7-922a9f737942"
      },
      "source": [
        "print('x / y =',x/y)"
      ],
      "execution_count": null,
      "outputs": [
        {
          "output_type": "stream",
          "text": [
            "x / y = 4.857142857142857\n"
          ],
          "name": "stdout"
        }
      ]
    },
    {
      "cell_type": "code",
      "metadata": {
        "colab": {
          "base_uri": "https://localhost:8080/"
        },
        "id": "49GDxcWf5Sg_",
        "outputId": "3daa790c-fe54-45f4-ba97-bcb4ea4e8b4e"
      },
      "source": [
        "print('x // y =',x//y)"
      ],
      "execution_count": null,
      "outputs": [
        {
          "output_type": "stream",
          "text": [
            "x // y = 4\n"
          ],
          "name": "stdout"
        }
      ]
    },
    {
      "cell_type": "code",
      "metadata": {
        "colab": {
          "base_uri": "https://localhost:8080/"
        },
        "id": "RzRKw0275U_M",
        "outputId": "2b3b35c1-2ab8-403a-e20c-a8ea1bf612df"
      },
      "source": [
        "print('x ** y =',x**y)"
      ],
      "execution_count": null,
      "outputs": [
        {
          "output_type": "stream",
          "text": [
            "x ** y = 52523350144\n"
          ],
          "name": "stdout"
        }
      ]
    },
    {
      "cell_type": "code",
      "metadata": {
        "colab": {
          "base_uri": "https://localhost:8080/"
        },
        "id": "8jhzUQCM5XuY",
        "outputId": "b40f6e57-a607-4e92-e0ed-824e529fa6ff"
      },
      "source": [
        "print('x > y is',x>y)"
      ],
      "execution_count": null,
      "outputs": [
        {
          "output_type": "stream",
          "text": [
            "x > y is True\n"
          ],
          "name": "stdout"
        }
      ]
    },
    {
      "cell_type": "code",
      "metadata": {
        "colab": {
          "base_uri": "https://localhost:8080/"
        },
        "id": "AD1clhUi6OVT",
        "outputId": "6fb60779-5edd-4e69-9fdf-2dcd63c4313d"
      },
      "source": [
        "print('x == y is',x==y)"
      ],
      "execution_count": null,
      "outputs": [
        {
          "output_type": "stream",
          "text": [
            "x == y is False\n"
          ],
          "name": "stdout"
        }
      ]
    },
    {
      "cell_type": "code",
      "metadata": {
        "colab": {
          "base_uri": "https://localhost:8080/"
        },
        "id": "3ujGTWZZ6R_x",
        "outputId": "8254b792-f877-48fd-efce-6b2672457ab0"
      },
      "source": [
        "print('x != y is',x!=y)"
      ],
      "execution_count": null,
      "outputs": [
        {
          "output_type": "stream",
          "text": [
            "x != y is True\n"
          ],
          "name": "stdout"
        }
      ]
    },
    {
      "cell_type": "code",
      "metadata": {
        "colab": {
          "base_uri": "https://localhost:8080/"
        },
        "id": "OAlqQBXU6U--",
        "outputId": "5164a762-17c1-40ca-a72c-d1d2551f181d"
      },
      "source": [
        "print('x <= y is',x<=y)"
      ],
      "execution_count": null,
      "outputs": [
        {
          "output_type": "stream",
          "text": [
            "x <= y is False\n"
          ],
          "name": "stdout"
        }
      ]
    },
    {
      "cell_type": "code",
      "metadata": {
        "id": "pVV8XIFg6YSl"
      },
      "source": [
        "x = False\r\n",
        "y = True"
      ],
      "execution_count": null,
      "outputs": []
    },
    {
      "cell_type": "code",
      "metadata": {
        "colab": {
          "base_uri": "https://localhost:8080/"
        },
        "id": "ORmY8UyF6hGF",
        "outputId": "07f47420-8e1c-4cd2-f15a-27b375fb9dbe"
      },
      "source": [
        "print('x and y is',x and y)\r\n",
        "\r\n",
        "print('x or y is',x or y)\r\n",
        "\r\n",
        "print('not x is',not x)"
      ],
      "execution_count": null,
      "outputs": [
        {
          "output_type": "stream",
          "text": [
            "x and y is False\n",
            "x or y is True\n",
            "not x is True\n"
          ],
          "name": "stdout"
        }
      ]
    },
    {
      "cell_type": "code",
      "metadata": {
        "colab": {
          "base_uri": "https://localhost:8080/"
        },
        "id": "-3AUrutx6k-G",
        "outputId": "8de6533e-5db9-42eb-a6c9-c24084594c44"
      },
      "source": [
        "print('Enter a name:')\r\n",
        "a = input()\r\n",
        "print('Hello, ' + a)"
      ],
      "execution_count": null,
      "outputs": [
        {
          "output_type": "stream",
          "text": [
            "Enter a name:\n",
            "Arsalan Wahid\n",
            "Hello, Arsalan Wahid\n"
          ],
          "name": "stdout"
        }
      ]
    },
    {
      "cell_type": "code",
      "metadata": {
        "id": "t3C9LG6bkeL6",
        "colab": {
          "base_uri": "https://localhost:8080/"
        },
        "outputId": "11c48a83-f3e2-426a-fe3b-cf316745c5b4"
      },
      "source": [
        "colors = ['green', 'yellow', 'white', 'black']\n",
        "#colors = []\n",
        "print(colors)\n",
        "print(type(colors))"
      ],
      "execution_count": null,
      "outputs": [
        {
          "output_type": "stream",
          "text": [
            "['green', 'yellow', 'white', 'black']\n",
            "<class 'list'>\n"
          ],
          "name": "stdout"
        }
      ]
    },
    {
      "cell_type": "code",
      "metadata": {
        "id": "j0XVQXzQ8Tu5"
      },
      "source": [
        ""
      ],
      "execution_count": null,
      "outputs": []
    },
    {
      "cell_type": "code",
      "metadata": {
        "id": "8Jltk75OkeL6",
        "colab": {
          "base_uri": "https://localhost:8080/"
        },
        "outputId": "c6598a4e-6c1b-4c24-e38d-37a60d8b1222"
      },
      "source": [
        "for a in colors:\n",
        "    print(a)\n",
        "    print(a.upper())\n",
        "\n",
        "print(\"finsh\")"
      ],
      "execution_count": null,
      "outputs": [
        {
          "output_type": "stream",
          "text": [
            "green\n",
            "GREEN\n",
            "yellow\n",
            "YELLOW\n",
            "white\n",
            "WHITE\n",
            "black\n",
            "BLACK\n",
            "finsh\n"
          ],
          "name": "stdout"
        }
      ]
    },
    {
      "cell_type": "code",
      "metadata": {
        "id": "AHrxQCbN8maO"
      },
      "source": [
        ""
      ],
      "execution_count": null,
      "outputs": []
    },
    {
      "cell_type": "code",
      "metadata": {
        "id": "3uhKWJiskeL8",
        "colab": {
          "base_uri": "https://localhost:8080/"
        },
        "outputId": "7a21961a-72c1-4227-ad6b-90c53ad54215"
      },
      "source": [
        "for b in range(5,50,4):\n",
        "    print(b)"
      ],
      "execution_count": null,
      "outputs": [
        {
          "output_type": "stream",
          "text": [
            "5\n",
            "9\n",
            "13\n",
            "17\n",
            "21\n",
            "25\n",
            "29\n",
            "33\n",
            "37\n",
            "41\n",
            "45\n",
            "49\n"
          ],
          "name": "stdout"
        }
      ]
    }
  ]
}